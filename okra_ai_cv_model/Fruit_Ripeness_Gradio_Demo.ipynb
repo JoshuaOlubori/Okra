{
  "nbformat": 4,
  "nbformat_minor": 0,
  "metadata": {
    "colab": {
      "provenance": []
    },
    "kernelspec": {
      "name": "python3",
      "display_name": "Python 3"
    },
    "language_info": {
      "name": "python"
    }
  },
  "cells": [
    {
      "cell_type": "markdown",
      "source": [
        "## Installation\n",
        "Install Gradio and Ultralytics"
      ],
      "metadata": {
        "id": "ocotAyX3-qz4"
      }
    },
    {
      "cell_type": "code",
      "source": [
        "!pip install gradio ultralytics -qq"
      ],
      "metadata": {
        "colab": {
          "base_uri": "https://localhost:8080/"
        },
        "id": "6PScQ_SdSMMr",
        "outputId": "27b4cb20-2104-4348-b7c1-337ed4a74ed1"
      },
      "execution_count": null,
      "outputs": [
        {
          "output_type": "stream",
          "name": "stdout",
          "text": [
            "\u001b[2K   \u001b[90m━━━━━━━━━━━━━━━━━━━━━━━━━━━━━━━━━━━━━━━━\u001b[0m \u001b[32m54.1/54.1 MB\u001b[0m \u001b[31m16.3 MB/s\u001b[0m eta \u001b[36m0:00:00\u001b[0m\n",
            "\u001b[2K   \u001b[90m━━━━━━━━━━━━━━━━━━━━━━━━━━━━━━━━━━━━━━━━\u001b[0m \u001b[32m323.1/323.1 kB\u001b[0m \u001b[31m17.3 MB/s\u001b[0m eta \u001b[36m0:00:00\u001b[0m\n",
            "\u001b[2K   \u001b[90m━━━━━━━━━━━━━━━━━━━━━━━━━━━━━━━━━━━━━━━━\u001b[0m \u001b[32m95.2/95.2 kB\u001b[0m \u001b[31m5.8 MB/s\u001b[0m eta \u001b[36m0:00:00\u001b[0m\n",
            "\u001b[2K   \u001b[90m━━━━━━━━━━━━━━━━━━━━━━━━━━━━━━━━━━━━━━━━\u001b[0m \u001b[32m11.6/11.6 MB\u001b[0m \u001b[31m48.5 MB/s\u001b[0m eta \u001b[36m0:00:00\u001b[0m\n",
            "\u001b[2K   \u001b[90m━━━━━━━━━━━━━━━━━━━━━━━━━━━━━━━━━━━━━━━━\u001b[0m \u001b[32m72.0/72.0 kB\u001b[0m \u001b[31m4.9 MB/s\u001b[0m eta \u001b[36m0:00:00\u001b[0m\n",
            "\u001b[2K   \u001b[90m━━━━━━━━━━━━━━━━━━━━━━━━━━━━━━━━━━━━━━━━\u001b[0m \u001b[32m62.5/62.5 kB\u001b[0m \u001b[31m3.7 MB/s\u001b[0m eta \u001b[36m0:00:00\u001b[0m\n",
            "\u001b[?25h"
          ]
        }
      ]
    },
    {
      "cell_type": "markdown",
      "source": [
        "## Build Gradio App"
      ],
      "metadata": {
        "id": "AfBItZV4-zKi"
      }
    },
    {
      "cell_type": "code",
      "execution_count": null,
      "metadata": {
        "colab": {
          "base_uri": "https://localhost:8080/",
          "height": 646
        },
        "id": "zJwUiQimPYiu",
        "outputId": "128569fc-61a6-4c1f-f057-a75ce955f5c3"
      },
      "outputs": [
        {
          "output_type": "stream",
          "name": "stdout",
          "text": [
            "It looks like you are running Gradio on a hosted a Jupyter notebook. For the Gradio app to work, sharing must be enabled. Automatically setting `share=True` (you can turn this off by setting `share=False` in `launch()` explicitly).\n",
            "\n",
            "Colab notebook detected. To show errors in colab notebook, set debug=True in launch()\n",
            "* Running on public URL: https://84d95ea6afddd61d11.gradio.live\n",
            "\n",
            "This share link expires in 1 week. For free permanent hosting and GPU upgrades, run `gradio deploy` from the terminal in the working directory to deploy to Hugging Face Spaces (https://huggingface.co/spaces)\n"
          ]
        },
        {
          "output_type": "display_data",
          "data": {
            "text/plain": [
              "<IPython.core.display.HTML object>"
            ],
            "text/html": [
              "<div><iframe src=\"https://84d95ea6afddd61d11.gradio.live\" width=\"100%\" height=\"500\" allow=\"autoplay; camera; microphone; clipboard-read; clipboard-write;\" frameborder=\"0\" allowfullscreen></iframe></div>"
            ]
          },
          "metadata": {}
        },
        {
          "output_type": "execute_result",
          "data": {
            "text/plain": []
          },
          "metadata": {},
          "execution_count": 7
        }
      ],
      "source": [
        "from ultralytics import YOLO\n",
        "import gradio as gr\n",
        "import numpy as np\n",
        "from PIL import Image\n",
        "\n",
        "# Load your YOLOv11s model\n",
        "model = YOLO(\"/content/best (3).pt\")\n",
        "\n",
        "# Inference function\n",
        "def detect(image):\n",
        "    results = model(image)\n",
        "    annotated_img = results[0].plot()  # Returns an annotated NumPy image (BGR)\n",
        "    return Image.fromarray(annotated_img[..., ::-1])  # Convert BGR to RGB\n",
        "\n",
        "# Description and Title\n",
        "title = \"🥭 Fruit Ripeness Prediction\"\n",
        "description = \"\"\"\n",
        "Welcome to the **Fruit Ripeness Prediction App**! 🍌🍊🍅\n",
        "Built by **Team Okra** for the **Agri Connect Summit Hackathon**, this tool helps detect and classify fruit and vegetable ripeness using a YOLOv11s model.\n",
        "Upload an image and see which fruits are **unripe**, **ripe**, or **rotten**.\n",
        "\"\"\"\n",
        "\n",
        "# Launch Gradio interface\n",
        "gr.Interface(\n",
        "    fn=detect,\n",
        "    inputs=gr.Image(type=\"pil\", label=\"Upload an Image of Fruits or Vegetables\"),\n",
        "    outputs=gr.Image(type=\"pil\", label=\"Detected Ripeness\"),\n",
        "    title=title,\n",
        "    description=description,\n",
        "    theme=\"default\",\n",
        "    examples=None\n",
        ").launch()"
      ]
    },
    {
      "cell_type": "code",
      "source": [],
      "metadata": {
        "id": "FUsIRCc6TidW"
      },
      "execution_count": null,
      "outputs": []
    }
  ]
}